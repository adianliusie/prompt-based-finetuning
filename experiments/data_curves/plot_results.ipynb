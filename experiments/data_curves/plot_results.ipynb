{
 "cells": [
  {
   "cell_type": "code",
   "execution_count": 23,
   "metadata": {},
   "outputs": [],
   "source": [
    "import numpy as np\n",
    "from collections import defaultdict\n",
    "from src.utils.general import load_json\n",
    "\n",
    "def get_model_perf(path, points=[10, 100, 1000, 5000, 10000]):\n",
    "    \"\"\" gets the performance of the model for different training splits \"\"\"\n",
    "    data = load_json(path)\n",
    "    domains = data['10']['1'].keys()\n",
    "\n",
    "    output = defaultdict(list)\n",
    "    for lim in [str(i) for i in points]:\n",
    "        # break if not in dataset \n",
    "        if lim not in data or len(data[lim].keys()) < 5: \n",
    "            continue\n",
    "\n",
    "        lim_performance = data[lim]\n",
    "\n",
    "        for domain in domains:\n",
    "            accs = [lim_performance[seed_num][domain] for seed_num in lim_performance.keys()]\n",
    "            mean = np.mean(accs)\n",
    "            std = np.std(accs)\n",
    "\n",
    "            output[domain].append([lim, mean, std])\n",
    "    return output\n",
    "\n",
    "def get_table_row(path, points=[10, 100, 1000, 5000, 10000]):\n",
    "    \"\"\" formats the results to go into the table in the paper \"\"\"\n",
    "    output = get_model_perf(path, points=points)\n",
    "    msg = ''\n",
    "    for domain in output.keys():\n",
    "        for k, lim in enumerate([str(i) for i in points]):\n",
    "            if k < len(output[domain]):\n",
    "                mean = output[domain][k][1]\n",
    "                msg += f' & {mean:.1f}' #\\std{{{row[2]:.1f}}}'\n",
    "            else:\n",
    "                msg += f' & -' #\\std{{{row[2]:.1f}}}'\n",
    "    print(msg)"
   ]
  },
  {
   "cell_type": "code",
   "execution_count": 32,
   "metadata": {},
   "outputs": [
    {
     "name": "stdout",
     "output_type": "stream",
     "text": [
      " & 33.9 & 53.7 & 85.3 & 87.5 & 88.2 & - & 34.2 & 39.7 & 69.8 & 76.9 & 78.1 & -\n"
     ]
    }
   ],
   "source": [
    "#path = 'models/snli/FT-bert-base/curve.json'\n",
    "path = 'models/snli/FT-roberta-large/curve.json'\n",
    "\n",
    "get_table_row(path, [10, 100, 1000, 5000, 10000, 50000])\n"
   ]
  },
  {
   "cell_type": "code",
   "execution_count": null,
   "metadata": {},
   "outputs": [],
   "source": []
  }
 ],
 "metadata": {
  "kernelspec": {
   "display_name": "Python 3 (ipykernel)",
   "language": "python",
   "name": "python3"
  },
  "language_info": {
   "codemirror_mode": {
    "name": "ipython",
    "version": 3
   },
   "file_extension": ".py",
   "mimetype": "text/x-python",
   "name": "python",
   "nbconvert_exporter": "python",
   "pygments_lexer": "ipython3",
   "version": "3.8.2"
  }
 },
 "nbformat": 4,
 "nbformat_minor": 4
}
